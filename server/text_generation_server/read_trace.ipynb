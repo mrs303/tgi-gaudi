{
 "cells": [
  {
   "cell_type": "code",
   "execution_count": 40,
   "metadata": {},
   "outputs": [],
   "source": [
    "import shelve\n",
    "from pb import generate_pb2_grpc, generate_pb2\n",
    "from pb.generate_pb2 import *"
   ]
  },
  {
   "cell_type": "code",
   "execution_count": 8,
   "metadata": {},
   "outputs": [],
   "source": [
    "data = shelve.open('/nfs/upload/tgi_trace', flag='r')"
   ]
  },
  {
   "cell_type": "code",
   "execution_count": 43,
   "metadata": {},
   "outputs": [],
   "source": [
    "ts = sorted([k for k in data.keys()])\n",
    "len(ts)\n",
    "\n",
    "get = lambda i : data[ts[i]]\n",
    "\n",
    "def get2(i):\n",
    "    record = get(i)\n",
    "    req_name = record[0]\n",
    "    req_data = record[1]\n",
    "    cls = globals()[req_name]\n",
    "    req = cls()\n",
    "    req.MergeFromString(req_data)\n",
    "\n",
    "    res_name = record[2]\n",
    "    res_data = record[3]\n",
    "    cls = globals()[res_name]\n",
    "    res = cls()\n",
    "    res.MergeFromString(res_data)\n",
    "\n",
    "\n",
    "    return (req_name, req, res_name, res)\n"
   ]
  },
  {
   "cell_type": "code",
   "execution_count": 47,
   "metadata": {},
   "outputs": [],
   "source": [
    "import pandas as pd\n",
    "\n",
    "allrequests = pd.DataFrame([get2(i) for i in range(len(ts))])\n",
    "allrequests.to_excel('/nfs/upload/requests.xlsx')"
   ]
  },
  {
   "cell_type": "code",
   "execution_count": 25,
   "metadata": {},
   "outputs": [
    {
     "data": {
      "text/plain": [
       "28"
      ]
     },
     "execution_count": 25,
     "metadata": {},
     "output_type": "execute_result"
    }
   ],
   "source": [
    "p = get(10)\n",
    "preq = generate_pb2.PrefillRequest()\n",
    "preq.MergeFromString(p[1])\n",
    "pres = generate_pb2.PrefillResponse()\n",
    "pres.MergeFromString(p[3])\n",
    "#(preq, pres)"
   ]
  },
  {
   "cell_type": "code",
   "execution_count": 26,
   "metadata": {},
   "outputs": [
    {
     "data": {
      "text/plain": [
       "140"
      ]
     },
     "execution_count": 26,
     "metadata": {},
     "output_type": "execute_result"
    }
   ],
   "source": [
    "d = get(50)\n",
    "dreq = generate_pb2.DecodeRequest()\n",
    "dreq.MergeFromString(d[1])\n",
    "dres = generate_pb2.DecodeResponse()\n",
    "dres.MergeFromString(d[3])\n",
    "#(dreq, dres)"
   ]
  },
  {
   "cell_type": "code",
   "execution_count": 42,
   "metadata": {},
   "outputs": [
    {
     "data": {
      "text/plain": [
       "generate_pb2.DecodeRequest"
      ]
     },
     "execution_count": 42,
     "metadata": {},
     "output_type": "execute_result"
    }
   ],
   "source": [
    "globals()['DecodeRequest']"
   ]
  },
  {
   "cell_type": "code",
   "execution_count": null,
   "metadata": {},
   "outputs": [],
   "source": []
  }
 ],
 "metadata": {
  "kernelspec": {
   "display_name": "Python 3",
   "language": "python",
   "name": "python3"
  },
  "language_info": {
   "codemirror_mode": {
    "name": "ipython",
    "version": 3
   },
   "file_extension": ".py",
   "mimetype": "text/x-python",
   "name": "python",
   "nbconvert_exporter": "python",
   "pygments_lexer": "ipython3",
   "version": "3.10.12"
  }
 },
 "nbformat": 4,
 "nbformat_minor": 2
}
